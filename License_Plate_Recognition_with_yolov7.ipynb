{
  "nbformat": 4,
  "nbformat_minor": 0,
  "metadata": {
    "colab": {
      "provenance": [],
      "gpuType": "T4"
    },
    "kernelspec": {
      "name": "python3",
      "display_name": "Python 3"
    },
    "language_info": {
      "name": "python"
    }
  },
  "cells": [
    {
      "cell_type": "code",
      "source": [
        "#import libs\n",
        "import os\n",
        "import glob\n",
        "import matplotlib.pyplot as plt\n",
        "import numpy as np\n",
        "import pandas as pd \n",
        "from PIL import Image, ImageDraw\n",
        "import xml.etree.ElementTree as ET\n",
        "from PIL import Image, ImageDraw\n",
        "import numpy as np"
      ],
      "metadata": {
        "id": "NCAbgL4qT8DD"
      },
      "execution_count": 4,
      "outputs": []
    },
    {
      "cell_type": "markdown",
      "source": [
        "#####download and unzip dataset"
      ],
      "metadata": {
        "id": "lsoR8hY508s_"
      }
    },
    {
      "cell_type": "code",
      "source": [
        "#1hwz6X-Zp7JpJL35K6P3z7k6O_PTXhUcT   #validation file\n",
        "!wget --load-cookies /tmp/cookies.txt \"https://docs.google.com/uc?export=download&confirm=$(wget --quiet --save-cookies /tmp/cookies.txt --keep-session-cookies --no-check-certificate 'https://docs.google.com/uc?export=download&id=1hwz6X-Zp7JpJL35K6P3z7k6O_PTXhUcT' -O- | sed -rn 's/.*confirm=([0-9A-Za-z_]+).*/\\1\\n/p')&id=1hwz6X-Zp7JpJL35K6P3z7k6O_PTXhUcT\" -O car_img-val && rm -rf /tmp/cookies.txt"
      ],
      "metadata": {
        "id": "5jmUkzRUs-mK"
      },
      "execution_count": null,
      "outputs": []
    },
    {
      "cell_type": "code",
      "source": [
        "!unzip \"/content/car_img-val\" -d \"/content/\""
      ],
      "metadata": {
        "id": "GAKGhOfYuY6q"
      },
      "execution_count": null,
      "outputs": []
    },
    {
      "cell_type": "code",
      "source": [
        "allfiles = os.listdir('/content/validation')\n",
        "print(len(allfiles))"
      ],
      "metadata": {
        "colab": {
          "base_uri": "https://localhost:8080/"
        },
        "id": "HUzhITA8hsLP",
        "outputId": "14280dfb-7f70-427b-825c-387305345b33"
      },
      "execution_count": 5,
      "outputs": [
        {
          "output_type": "stream",
          "name": "stdout",
          "text": [
            "4240\n"
          ]
        }
      ]
    },
    {
      "cell_type": "code",
      "source": [
        "!rm -rf sample_data\n",
        "!rm -rf car_img-val"
      ],
      "metadata": {
        "id": "y5cDcCJWhj9g"
      },
      "execution_count": 6,
      "outputs": []
    },
    {
      "cell_type": "code",
      "source": [
        "path = '/content/'\n",
        "source = '/content/validation'\n",
        "destination = '/content/train'\n",
        "os.rename(source, destination)"
      ],
      "metadata": {
        "id": "Gcm2J6ITrV4M"
      },
      "execution_count": 7,
      "outputs": []
    },
    {
      "cell_type": "markdown",
      "source": [
        "##### define some functions for convert .xml label files to yolo format"
      ],
      "metadata": {
        "id": "9SLME3eJ1JUM"
      }
    },
    {
      "cell_type": "code",
      "source": [
        "# Function to get the data from XML Annotation\n",
        "def extract_info_from_xml(xml_file):\n",
        "    root = ET.parse(xml_file).getroot()\n",
        "    \n",
        "    # Initialise the info dict \n",
        "    info_dict = {}\n",
        "    info_dict['bboxes'] = []\n",
        "\n",
        "    # Parse the XML Tree\n",
        "    for elem in root:\n",
        "              \n",
        "        # Get details of the bounding box \n",
        "        if elem.tag == \"object\":\n",
        "          bbox = {}\n",
        "          for subelem in elem:\n",
        "              if subelem.tag == \"name\":\n",
        "                  bbox[\"class\"] = subelem.text\n",
        "                    \n",
        "              elif subelem.tag == \"bndbox\":\n",
        "                  for subsubelem in subelem:\n",
        "                       bbox[subsubelem.tag] = int(float(subsubelem.text))           \n",
        "          info_dict['bboxes'].append(bbox)\n",
        "    \n",
        "    return info_dict\n",
        "\n",
        "\n",
        "# Dictionary that maps class names to IDs\n",
        "class_name_to_id_mapping = {\"کل ناحیه پلاک\": 0}\n",
        "\n",
        "\n",
        "# Convert the info dict to the required yolo format and write it to disk\n",
        "def convert_to_yolov7(info_dict, ann, img):\n",
        "\n",
        "  print_buffer = []\n",
        "    \n",
        "    # For each bounding box\n",
        "  for b in info_dict[\"bboxes\"]:\n",
        "    if b['class'] == 'کل ناحیه پلاک':\n",
        "      try:\n",
        "          class_id = class_name_to_id_mapping[b[\"class\"]]\n",
        "      except KeyError:\n",
        "          print(\"Invalid Class. Must be one from \", class_name_to_id_mapping.keys())\n",
        "          \n",
        "          # Transform the bbox co-ordinates as per the format required by YOLO v7\n",
        "      b_center_x = (b[\"xmin\"] + b[\"xmax\"]) / 2 \n",
        "      b_center_y = (b[\"ymin\"] + b[\"ymax\"]) / 2\n",
        "      b_width    = (b[\"xmax\"] - b[\"xmin\"])\n",
        "      b_height   = (b[\"ymax\"] - b[\"ymin\"])\n",
        "        \n",
        "        # Normalise the co-ordinates by the dimensions of the image\n",
        "      #img = ann[:-3] + 'jpg'\n",
        "      im=plt.imread(img)\n",
        "      image_h, image_w, image_c = im.shape\n",
        "      b_center_x /= image_w \n",
        "      b_center_y /= image_h \n",
        "      b_width    /= image_w \n",
        "      b_height   /= image_h \n",
        "        \n",
        "        #Write the bbox details to the file \n",
        "      print_buffer.append(\"{} {:.3f} {:.3f} {:.3f} {:.3f}\".format(class_id, b_center_x, b_center_y, b_width, b_height))\n",
        "  save_file_name = ann[:-3] + 'txt'\n",
        "  print(\"\\n\".join(print_buffer), file= open(save_file_name, \"w\")) \n",
        "\n",
        "def movtofoldertrain(path):\n",
        "  src = path + 'train'\n",
        "  dest1 = path + 'train/images'\n",
        "  dest2 = path + 'train/labels'\n",
        "  allfiles = os.listdir(src)\n",
        "  for f in allfiles:\n",
        "    print(f)\n",
        "    if f.endswith(\".jpg\"):\n",
        "      src_path = os.path.join(src, f)\n",
        "      dst_path = os.path.join(dest1, f)\n",
        "      os.rename(src_path, dst_path)\n",
        "    elif f.endswith(\".txt\"):\n",
        "      src_path = os.path.join(src, f)\n",
        "      dst_path = os.path.join(dest2, f)\n",
        "      os.rename(src_path, dst_path)\n",
        "    elif f.endswith(\".xml\"):\n",
        "      src_path = os.path.join(src, f)\n",
        "      os.remove(src_path)\n",
        "    else:\n",
        "      pass"
      ],
      "metadata": {
        "id": "ekKoCWCfr4oB"
      },
      "execution_count": 9,
      "outputs": []
    },
    {
      "cell_type": "code",
      "source": [
        "searchxml   = os.path.join( path , \"*\" , \"*.xml\" )\n",
        "xmlfiles = sorted(glob.glob( searchxml ))\n",
        "i=0\n",
        "for xml in xmlfiles:\n",
        "  try:\n",
        "    ann = xml\n",
        "    img = ann[:-3] + 'jpg'\n",
        "    print(i,xml)\n",
        "    info_dict = extract_info_from_xml(ann)\n",
        "    convert_to_yolov7(info_dict, ann, img)\n",
        "    i = i + 1\n",
        "  except:\n",
        "    print(xml)\n",
        "print(\".txt ok\")\n",
        "\n",
        "os.mkdir('test')\n",
        "Paths=['train/images', 'train/labels', 'test/images', 'test/labels']\n",
        "for p in Paths:\n",
        "  os.mkdir(path+p)\n",
        "\n",
        "movtofoldertrain(path)\n",
        "print(\"movtofoldertrain ok\")"
      ],
      "metadata": {
        "id": "fKX5I-fOd4bF"
      },
      "execution_count": null,
      "outputs": []
    },
    {
      "cell_type": "code",
      "source": [
        "jpgfiles = sorted(os.listdir('/content/train/images'))\n",
        "txtfiles = sorted(os.listdir('/content/train/labels'))\n",
        "srcf = path + 'train/images'\n",
        "srcg = path + 'train/labels'\n",
        "\n",
        "dest1 = path + 'test/images'\n",
        "dest2 = path + 'test/labels'\n",
        "for i in range (0,2119,5):\n",
        "\n",
        "  f=jpgfiles[i]\n",
        "  g=txtfiles[i]\n",
        "\n",
        "  src_pathf = os.path.join(srcf, f)\n",
        "  dst_pathf = os.path.join(dest1, f)\n",
        "  os.rename(src_pathf, dst_pathf)\n",
        "\n",
        "  src_pathg = os.path.join(srcg, g)\n",
        "  dst_pathg = os.path.join(dest2, g)\n",
        "  os.rename(src_pathg, dst_pathg)\n",
        "  \n",
        "print(\"movtofoldertest ok\")"
      ],
      "metadata": {
        "colab": {
          "base_uri": "https://localhost:8080/"
        },
        "id": "DfP1vgMQwPRj",
        "outputId": "c785c3b0-419e-45b8-9673-88f66873c3f3"
      },
      "execution_count": 11,
      "outputs": [
        {
          "output_type": "stream",
          "name": "stdout",
          "text": [
            "movtofoldertest ok\n"
          ]
        }
      ]
    },
    {
      "cell_type": "code",
      "source": [
        "trainjpg = sorted(os.listdir('/content/train/images'))\n",
        "traintxt = sorted(os.listdir('/content/train/labels'))\n",
        "testjpg = sorted(os.listdir('/content/test/images'))\n",
        "testtxt = sorted(os.listdir('/content/test/labels'))\n",
        "\n",
        "print(len(trainjpg), len(traintxt), len(testjpg), len(testtxt)) #1696 1696 424 424"
      ],
      "metadata": {
        "colab": {
          "base_uri": "https://localhost:8080/"
        },
        "id": "_c4MaCqGytx6",
        "outputId": "e61dadd6-7e49-413e-aafa-bc74873816c7"
      },
      "execution_count": 12,
      "outputs": [
        {
          "output_type": "stream",
          "name": "stdout",
          "text": [
            "1696 1696 424 424\n"
          ]
        }
      ]
    },
    {
      "cell_type": "markdown",
      "source": [
        "#####clone repo and train"
      ],
      "metadata": {
        "id": "xDnoKSgm1YFS"
      }
    },
    {
      "cell_type": "code",
      "source": [
        "#clone repo\n",
        "!git clone https://github.com/HamidrezaHayatjou/LPRwithyolo7.git"
      ],
      "metadata": {
        "id": "FeVMRxuu1bl7"
      },
      "execution_count": null,
      "outputs": []
    },
    {
      "cell_type": "code",
      "source": [
        "cd LPRwithyolo7"
      ],
      "metadata": {
        "colab": {
          "base_uri": "https://localhost:8080/"
        },
        "id": "CJwFUeW_6Q4E",
        "outputId": "3c9d4b6f-d766-4da5-8951-646c1c22f33f"
      },
      "execution_count": 14,
      "outputs": [
        {
          "output_type": "stream",
          "name": "stdout",
          "text": [
            "/content/LPRwithyolo7\n"
          ]
        }
      ]
    },
    {
      "cell_type": "code",
      "source": [
        "#download .pt file\n",
        "!wget https://github.com/WongKinYiu/yolov7/releases/download/v0.1/yolov7_training.pt"
      ],
      "metadata": {
        "id": "k7hfTWYj6V5n"
      },
      "execution_count": null,
      "outputs": []
    },
    {
      "cell_type": "code",
      "source": [
        "#install requirements\n",
        "!pip install -r /content/LPRwithyolo7/requirements.txt\n",
        "!pip install -r /content/LPRwithyolo7/requirements_gpu.txt"
      ],
      "metadata": {
        "id": "Vj9Qj2jb6aXi"
      },
      "execution_count": null,
      "outputs": []
    },
    {
      "cell_type": "code",
      "source": [
        "#train\n",
        "!python train.py --workers 8 --device 0 --batch-size 16 --epochs 50 --data data/coco.yaml --img 640 640 --cfg cfg/training/yolov7.yaml --weights 'yolov7_training.pt' --name yolov7-custom --hyp data/hyp.scratch.custom.yaml"
      ],
      "metadata": {
        "id": "lRiJ__Wm6tAo"
      },
      "execution_count": null,
      "outputs": []
    },
    {
      "cell_type": "code",
      "source": [
        "#inference\n",
        "!python detect.py --weights /content/TSDwithyolo7/runs/train/yolov7-custom/weights/best.pt --conf 0.5 --img-size 640 --source /content/LPRwithyolo7/testvideo.mp4 --no-trace"
      ],
      "metadata": {
        "id": "8-yIefO4BJyz"
      },
      "execution_count": null,
      "outputs": []
    }
  ]
}